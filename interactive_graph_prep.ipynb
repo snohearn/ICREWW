{
 "cells": [
  {
   "cell_type": "code",
   "execution_count": 18,
   "id": "39733043-c9ea-431f-bfab-752fe6b589f0",
   "metadata": {},
   "outputs": [],
   "source": [
    "import pandas as pd\n",
    "\n",
    "# Load the files\n",
    "kendall_tau_results = pd.read_csv(\"stat_sig_kendall_tau_results\")\n",
    "raw_data = pd.read_csv(\"raw_data.csv\")\n",
    "\n",
    "# Extract relevant columns for species mapping\n",
    "species_info = raw_data[['species_id', 'genus', 'species', 'common_name']].drop_duplicates()\n",
    "species_info['species_name'] = species_info['genus'] + \" \" + species_info['species']\n",
    "\n",
    "# Rename columns for merging\n",
    "species_info_a = species_info.rename(columns={'species_id': 'species_a', 'species_name': 'species_a_name', 'common_name': 'species_a_common'})\n",
    "species_info_b = species_info.rename(columns={'species_id': 'species_b', 'species_name': 'species_b_name', 'common_name': 'species_b_common'})\n",
    "\n",
    "# Merge species names and common names\n",
    "kendall_tau_results = kendall_tau_results.merge(species_info_a, on='species_a', how='left')\n",
    "kendall_tau_results = kendall_tau_results.merge(species_info_b, on='species_b', how='left')\n",
    "\n",
    "# Merge site names\n",
    "site_info = raw_data[['site_id', 'site_name']].drop_duplicates()\n",
    "kendall_tau_results = kendall_tau_results.merge(site_info, on='site_id', how='left')\n",
    "\n",
    "# Drop numeric species IDs, keeping only names\n",
    "\n",
    "# Save the processed file\n",
    "kendall_tau_results.to_csv(\"interactive_graph_data.csv\", index=False)\n"
   ]
  },
  {
   "cell_type": "code",
   "execution_count": 19,
   "id": "d575551b-ada0-4ef7-9da1-a0445dbcbc9a",
   "metadata": {},
   "outputs": [
    {
     "data": {
      "text/plain": [
       "304"
      ]
     },
     "execution_count": 19,
     "metadata": {},
     "output_type": "execute_result"
    }
   ],
   "source": [
    "len(kendall_tau_results)"
   ]
  },
  {
   "cell_type": "code",
   "execution_count": null,
   "id": "43e4a7a0-c10e-422d-b50b-35773a0138f0",
   "metadata": {},
   "outputs": [],
   "source": []
  }
 ],
 "metadata": {
  "kernelspec": {
   "display_name": "Python [conda env:miniconda3-my_env]",
   "language": "python",
   "name": "conda-env-miniconda3-my_env-py"
  },
  "language_info": {
   "codemirror_mode": {
    "name": "ipython",
    "version": 3
   },
   "file_extension": ".py",
   "mimetype": "text/x-python",
   "name": "python",
   "nbconvert_exporter": "python",
   "pygments_lexer": "ipython3",
   "version": "3.12.7"
  }
 },
 "nbformat": 4,
 "nbformat_minor": 5
}
